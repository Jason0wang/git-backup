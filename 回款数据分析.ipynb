{
 "cells": [
  {
   "cell_type": "code",
   "execution_count": 8,
   "metadata": {
    "collapsed": true
   },
   "outputs": [],
   "source": [
    "import pandas as pd\n",
    "block1 = pd.read_excel(\"./中银微贷款/3月/华诚融通（陕西）-11661笔-预测.xls\")\n",
    "block2 = pd.read_excel(\"./中银微贷款/3月/华诚融通（陕西）-12755笔-预测.xls\")\n",
    "block3 = pd.read_excel(\"./中银微贷款/3月/华诚融通（陕西）-14832笔-预测.xls\")\n",
    "label = pd.read_excel(\"./中银微贷款/3月/华诚融通（陕西）回款.xlsx\")"
   ]
  },
  {
   "cell_type": "code",
   "execution_count": 9,
   "metadata": {},
   "outputs": [
    {
     "name": "stdout",
     "output_type": "stream",
     "text": [
      "count    11661.000000\n",
      "mean         0.555861\n",
      "std          0.010520\n",
      "min          0.532743\n",
      "25%          0.553098\n",
      "50%          0.554491\n",
      "75%          0.556631\n",
      "max          0.920485\n",
      "Name: flag, dtype: float64\n",
      "count    12755.000000\n",
      "mean         0.569832\n",
      "std          0.026515\n",
      "min          0.490258\n",
      "25%          0.558132\n",
      "50%          0.562496\n",
      "75%          0.571146\n",
      "max          0.962430\n",
      "Name: flag, dtype: float64\n",
      "count    14832.000000\n",
      "mean         0.459648\n",
      "std          0.021042\n",
      "min          0.425257\n",
      "25%          0.454027\n",
      "50%          0.455869\n",
      "75%          0.458657\n",
      "max          0.996230\n",
      "Name: flag, dtype: float64\n"
     ]
    }
   ],
   "source": [
    "print(block1['flag'].describe())\n",
    "print(block2['flag'].describe())\n",
    "print(block3['flag'].describe())"
   ]
  },
  {
   "cell_type": "code",
   "execution_count": 10,
   "metadata": {},
   "outputs": [
    {
     "name": "stdout",
     "output_type": "stream",
     "text": [
      "重复标签数：446\n"
     ]
    }
   ],
   "source": [
    "def quchong(r_p):\n",
    "    s = set(\"\")\n",
    "    count = 0\n",
    "    for index in r_p.index:\n",
    "        number = r_p.loc[index, '消费金融账号']\n",
    "        amount = r_p.loc[index, '交易金额']\n",
    "        if number in s:\n",
    "            li = r_p[r_p['消费金融账号']==number].index.tolist()\n",
    "            old =  r_p.loc[li[0],'交易金额']\n",
    "            r_p.loc[li[0],'交易金额'] = old+amount\n",
    "            #print(number+\"  : \"+str(old)+\" -> \"+str(old+amount))\n",
    "            r_p=r_p.drop(index)\n",
    "            count+=1\n",
    "        else:\n",
    "            s.add(number)\n",
    "    print(\"重复标签数：\"+str(count))\n",
    "    return r_p\n",
    "label = label.rename(columns={'消费金融账户 ({}月)'.format(3):'消费金融账号'})\n",
    "dataid = quchong(label)"
   ]
  },
  {
   "cell_type": "code",
   "execution_count": 13,
   "metadata": {},
   "outputs": [
    {
     "data": {
      "text/plain": [
       "1220"
      ]
     },
     "execution_count": 13,
     "metadata": {},
     "output_type": "execute_result"
    }
   ],
   "source": [
    "len(dataid)"
   ]
  },
  {
   "cell_type": "code",
   "execution_count": 20,
   "metadata": {
    "collapsed": true
   },
   "outputs": [],
   "source": [
    "intersection_1 = pd.merge(dataid[['消费金融账号','交易金额']],block1,on='消费金融账号',how='right')\n",
    "intersection_2 = pd.merge(dataid[['消费金融账号','交易金额']],block2,on='消费金融账号',how='right')\n",
    "intersection_3 = pd.merge(dataid[['消费金融账号','交易金额']],block3,on='消费金融账号',how='right')"
   ]
  },
  {
   "cell_type": "code",
   "execution_count": 22,
   "metadata": {
    "collapsed": true
   },
   "outputs": [],
   "source": [
    "intersection_1=intersection_1.fillna(0)\n",
    "intersection_2=intersection_2.fillna(0)\n",
    "intersection_3=intersection_3.fillna(0)"
   ]
  },
  {
   "cell_type": "code",
   "execution_count": 30,
   "metadata": {},
   "outputs": [
    {
     "name": "stdout",
     "output_type": "stream",
     "text": [
      "38\n",
      "416\n",
      "137\n"
     ]
    }
   ],
   "source": [
    "print(len(intersection_1[(intersection_1['交易金额']>=0.1*intersection_1['当前欠款合计'])&(intersection_1['flag']>=0.554491)]))\n",
    "print(len(intersection_2[(intersection_2['交易金额']>=0.1*intersection_2['当前欠款合计'])&(intersection_2['flag']>=0.562496)]))\n",
    "print(len(intersection_3[(intersection_3['交易金额']>=0.1*intersection_3['当前欠款合计'])&(intersection_3['flag']>=0.455869)]))"
   ]
  },
  {
   "cell_type": "code",
   "execution_count": 31,
   "metadata": {},
   "outputs": [
    {
     "name": "stdout",
     "output_type": "stream",
     "text": [
      "123\n",
      "749\n",
      "344\n"
     ]
    }
   ],
   "source": [
    "print(len(intersection_1[intersection_1['交易金额']>0]))\n",
    "print(len(intersection_2[intersection_2['交易金额']>0]))\n",
    "print(len(intersection_3[intersection_3['交易金额']>0]))"
   ]
  },
  {
   "cell_type": "code",
   "execution_count": 32,
   "metadata": {},
   "outputs": [
    {
     "data": {
      "text/plain": [
       "1220"
      ]
     },
     "execution_count": 32,
     "metadata": {},
     "output_type": "execute_result"
    }
   ],
   "source": [
    "len(dataid)"
   ]
  },
  {
   "cell_type": "code",
   "execution_count": null,
   "metadata": {
    "collapsed": true
   },
   "outputs": [],
   "source": []
  }
 ],
 "metadata": {
  "kernelspec": {
   "display_name": "Python 3",
   "language": "python",
   "name": "python3"
  },
  "language_info": {
   "codemirror_mode": {
    "name": "ipython",
    "version": 3
   },
   "file_extension": ".py",
   "mimetype": "text/x-python",
   "name": "python",
   "nbconvert_exporter": "python",
   "pygments_lexer": "ipython3",
   "version": "3.5.4"
  }
 },
 "nbformat": 4,
 "nbformat_minor": 2
}
